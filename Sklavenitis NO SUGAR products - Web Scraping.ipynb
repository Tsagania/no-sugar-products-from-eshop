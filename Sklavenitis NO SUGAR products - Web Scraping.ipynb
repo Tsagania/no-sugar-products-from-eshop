{
 "cells": [
  {
   "cell_type": "markdown",
   "metadata": {},
   "source": [
    "# Collect Products with No Sugar from https://www.sklavenitis.gr Super Market\n",
    "Took 3.5 hours (until a dictionary of products without sugar was returned)\n",
    "\n",
    "#### To do\n",
    "txt variable has a lot of HTML text, reduce text\n",
    "\n",
    "Improve output, maybe save in csv file\n",
    "\n",
    "Some products don't include ingredients and this absence is taken for a false positive"
   ]
  },
  {
   "cell_type": "code",
   "execution_count": 10,
   "metadata": {},
   "outputs": [],
   "source": [
    "import requests\n",
    "from bs4 import BeautifulSoup\n",
    "import pandas as pd\n",
    "import re"
   ]
  },
  {
   "cell_type": "code",
   "execution_count": 11,
   "metadata": {},
   "outputs": [],
   "source": [
    "headers = {'User-Agent': 'Mozilla/5.0 (Windows NT 10.0; Win64; x64) AppleWebKit/537.36 (KHTML, like Gecko) Chrome/89.0.4389.82 Safari/537.36'}"
   ]
  },
  {
   "cell_type": "markdown",
   "metadata": {},
   "source": [
    "### Open local HTML file\n",
    "The file contains all products that fall under the \"Sauses\" category. I choose this approach because of the site's structure\n",
    "\n",
    "NOTE: This site loads products as the user is scrolling, so I downloaded the file after I reached page's bottom. If products where spreaded in pages -instead of loading by scrolling- I would change tactic and retrieve them online directly from the site. \n",
    "\n",
    "#### To do\n",
    "Add direct retrieval from site version of the code "
   ]
  },
  {
   "cell_type": "code",
   "execution_count": 12,
   "metadata": {},
   "outputs": [],
   "source": [
    "f = open(r'C:\\Users\\marwq\\Desktop\\sklavenitis-saltses.html', 'r', encoding=\"utf8\")\n",
    "s = f.read()\n",
    "soup = BeautifulSoup(s,\"html.parser\")"
   ]
  },
  {
   "cell_type": "markdown",
   "metadata": {},
   "source": [
    "### Catch each product's URL\n",
    "All URLS that lead to product pages are classified 'abslink'\n",
    "In a list named productlinks I append all <a> tags with class= 'abslink'"
   ]
  },
  {
   "cell_type": "code",
   "execution_count": 13,
   "metadata": {
    "collapsed": true
   },
   "outputs": [
    {
     "data": {
      "text/plain": [
       "['https://www.sklavenitis.gr/trofima-pantopoleioy/ketsap-moystardes-magionezes-etoimes-saltses/moystardes/-1303462/',\n",
       " 'https://www.sklavenitis.gr/trofima-pantopoleioy/ketsap-moystardes-magionezes-etoimes-saltses/magionezes/hellmanns-real-magioneza-450ml-220794/',\n",
       " 'https://www.sklavenitis.gr/trofima-pantopoleioy/ketsap-moystardes-magionezes-etoimes-saltses/ketsap/marata-ketsap-horis-glouteni-560gr/',\n",
       " 'https://www.sklavenitis.gr/trofima-pantopoleioy/ketsap-moystardes-magionezes-etoimes-saltses/magionezes/marata-magioneza-500ml/',\n",
       " 'https://www.sklavenitis.gr/trofima-pantopoleioy/ketsap-moystardes-magionezes-etoimes-saltses/magionezes/hellmanns-real-magioneza-top-down-430ml-220792/',\n",
       " 'https://www.sklavenitis.gr/trofima-pantopoleioy/ketsap-moystardes-magionezes-etoimes-saltses/moystardes/hellmanns-moustarda-apal-500gr-227269/',\n",
       " 'https://www.sklavenitis.gr/trofima-pantopoleioy/ketsap-moystardes-magionezes-etoimes-saltses/magionezes/hellmanns-real-magioneza-225ml-220790/',\n",
       " 'https://www.sklavenitis.gr/trofima-pantopoleioy/ketsap-moystardes-magionezes-etoimes-saltses/magionezes/kraft-magioneza-horis-glouteni-490ml/',\n",
       " 'https://www.sklavenitis.gr/trofima-pantopoleioy/ketsap-moystardes-magionezes-etoimes-saltses/ketsap/heinz-ketsap-squeezy-570gr-220826/',\n",
       " 'https://www.sklavenitis.gr/trofima-pantopoleioy/ketsap-moystardes-magionezes-etoimes-saltses/etoimes-saltses/barilla-etoimi-saltsa-zumarikon-pesto-genovese-horis-glouteni-190gr/',\n",
       " 'https://www.sklavenitis.gr/trofima-pantopoleioy/ketsap-moystardes-magionezes-etoimes-saltses/magionezes/-1303489/',\n",
       " 'https://www.sklavenitis.gr/trofima-pantopoleioy/ketsap-moystardes-magionezes-etoimes-saltses/moystardes/-1121305/',\n",
       " 'https://www.sklavenitis.gr/trofima-pantopoleioy/ketsap-moystardes-magionezes-etoimes-saltses/moystardes/-1303466/',\n",
       " 'https://www.sklavenitis.gr/trofima-pantopoleioy/ketsap-moystardes-magionezes-etoimes-saltses/magionezes/hellmanns-vegan-mayo-sauce-270gr-244783/',\n",
       " 'https://www.sklavenitis.gr/trofima-pantopoleioy/ketsap-moystardes-magionezes-etoimes-saltses/ketsap/heinz-ketsap-squeezy-342gr-220825/',\n",
       " 'https://www.sklavenitis.gr/trofima-pantopoleioy/ketsap-moystardes-magionezes-etoimes-saltses/magionezes/kraft-magioneza-horis-glouteni-185ml/',\n",
       " 'https://www.sklavenitis.gr/trofima-pantopoleioy/ketsap-moystardes-magionezes-etoimes-saltses/ketsap/hellmanns-ketsap-squeeze-560gr-220829/',\n",
       " 'https://www.sklavenitis.gr/trofima-pantopoleioy/ketsap-moystardes-magionezes-etoimes-saltses/ketsap/heinz-ketsap-570gr-233950/',\n",
       " 'https://www.sklavenitis.gr/trofima-pantopoleioy/ketsap-moystardes-magionezes-etoimes-saltses/saltses-dressings/17-dressing-ceasars-250gr/',\n",
       " 'https://www.sklavenitis.gr/trofima-pantopoleioy/ketsap-moystardes-magionezes-etoimes-saltses/ketsap/1504220-1504220/',\n",
       " 'https://www.sklavenitis.gr/trofima-pantopoleioy/ketsap-moystardes-magionezes-etoimes-saltses/ketsap/hellmanns-ketsapito-max-460gr/',\n",
       " 'https://www.sklavenitis.gr/trofima-pantopoleioy/ketsap-moystardes-magionezes-etoimes-saltses/magionezes/hellmanns-real-magioneza-650ml-220796/',\n",
       " 'https://www.sklavenitis.gr/trofima-pantopoleioy/ketsap-moystardes-magionezes-etoimes-saltses/magionezes/hellmanns-magioneza-light-225ml-220791/',\n",
       " 'https://www.sklavenitis.gr/trofima-pantopoleioy/ketsap-moystardes-magionezes-etoimes-saltses/moystardes/hellmanns-moustarda-apal-265gr-237436/',\n",
       " 'https://www.sklavenitis.gr/trofima-pantopoleioy/ketsap-moystardes-magionezes-etoimes-saltses/moystardes/-1121309/',\n",
       " 'https://www.sklavenitis.gr/trofima-pantopoleioy/ketsap-moystardes-magionezes-etoimes-saltses/moystardes/hellmanns-moustarda-me-meli-260gr-232131/',\n",
       " 'https://www.sklavenitis.gr/trofima-pantopoleioy/ketsap-moystardes-magionezes-etoimes-saltses/etoimes-saltses/barilla-saltsa-basilico-400gr/',\n",
       " 'https://www.sklavenitis.gr/trofima-pantopoleioy/ketsap-moystardes-magionezes-etoimes-saltses/etoimes-saltses/kyknos-saltsa-pitsas-400gr/',\n",
       " 'https://www.sklavenitis.gr/trofima-pantopoleioy/ketsap-moystardes-magionezes-etoimes-saltses/etoimes-saltses/-1198812/',\n",
       " 'https://www.sklavenitis.gr/trofima-pantopoleioy/ketsap-moystardes-magionezes-etoimes-saltses/moystardes/hellmanns-moustarda-apal-250gr-220810/',\n",
       " 'https://www.sklavenitis.gr/trofima-pantopoleioy/ketsap-moystardes-magionezes-etoimes-saltses/magionezes/hellmanns-magioneza-light-top-down-430ml-220793/',\n",
       " 'https://www.sklavenitis.gr/trofima-pantopoleioy/ketsap-moystardes-magionezes-etoimes-saltses/etoimes-saltses/knorr-saltsa-4-turia-44gr-221284/',\n",
       " 'https://www.sklavenitis.gr/trofima-pantopoleioy/ketsap-moystardes-magionezes-etoimes-saltses/magionezes/hellmanns-magioneza-light-450ml-220795/',\n",
       " 'https://www.sklavenitis.gr/trofima-pantopoleioy/ketsap-moystardes-magionezes-etoimes-saltses/etoimes-saltses/knorr-saltsa-karmponara-44gr-221285/',\n",
       " 'https://www.sklavenitis.gr/trofima-pantopoleioy/ketsap-moystardes-magionezes-etoimes-saltses/saltses-dressings/hellmanns-saltsa-barbeque-meli-250ml-220834/',\n",
       " 'https://www.sklavenitis.gr/trofima-pantopoleioy/ketsap-moystardes-magionezes-etoimes-saltses/moystardes/papadimitriou-moustarda-me-meli-300gr-228731/',\n",
       " 'https://www.sklavenitis.gr/trofima-pantopoleioy/ketsap-moystardes-magionezes-etoimes-saltses/moystardes/hellmanns-moustarda-pikantiki-500gr-230712/',\n",
       " 'https://www.sklavenitis.gr/trofima-pantopoleioy/ketsap-moystardes-magionezes-etoimes-saltses/magionezes/hellmanns-real-magioneza-880ml-237417/',\n",
       " 'https://www.sklavenitis.gr/trofima-pantopoleioy/ketsap-moystardes-magionezes-etoimes-saltses/ketsap/hellmanns-ketsap-me-stevia-vegan-465gr/',\n",
       " 'https://www.sklavenitis.gr/trofima-pantopoleioy/ketsap-moystardes-magionezes-etoimes-saltses/ketsap/-6983480/',\n",
       " 'https://www.sklavenitis.gr/trofima-pantopoleioy/ketsap-moystardes-magionezes-etoimes-saltses/moystardes/hellmanns-moustarda-dijonnaise-240gr-227268/',\n",
       " 'https://www.sklavenitis.gr/trofima-pantopoleioy/ketsap-moystardes-magionezes-etoimes-saltses/moystardes/maille-moustarda-dijon-originale-215gr-220812/',\n",
       " 'https://www.sklavenitis.gr/trofima-pantopoleioy/ketsap-moystardes-magionezes-etoimes-saltses/moystardes/-1250682/',\n",
       " 'https://www.sklavenitis.gr/trofima-pantopoleioy/ketsap-moystardes-magionezes-etoimes-saltses/etoimes-saltses/barilla-saltsa-me-vasiliko-200gr/',\n",
       " 'https://www.sklavenitis.gr/trofima-pantopoleioy/ketsap-moystardes-magionezes-etoimes-saltses/magionezes/hellmanns-magioneza-me-mono-3-430ml/',\n",
       " 'https://www.sklavenitis.gr/trofima-pantopoleioy/ketsap-moystardes-magionezes-etoimes-saltses/magionezes/kraft-magioneza-horis-glouteni-350ml/',\n",
       " 'https://www.sklavenitis.gr/trofima-pantopoleioy/ketsap-moystardes-magionezes-etoimes-saltses/saltses-dressings/heinz-150ml-soya-sauce-220833/',\n",
       " 'https://www.sklavenitis.gr/trofima-pantopoleioy/ketsap-moystardes-magionezes-etoimes-saltses/ketsap/kuknos-ketsap-330gr-230273/',\n",
       " 'https://www.sklavenitis.gr/trofima-pantopoleioy/ketsap-moystardes-magionezes-etoimes-saltses/saltses-dressings/hellmanns-saltsa-bbq-original-250ml-242841/',\n",
       " 'https://www.sklavenitis.gr/trofima-pantopoleioy/ketsap-moystardes-magionezes-etoimes-saltses/saltses-dressings/hellmanns-dressing-ceasar-salata-210ml-236951/',\n",
       " 'https://www.sklavenitis.gr/trofima-pantopoleioy/ketsap-moystardes-magionezes-etoimes-saltses/saltses-dressings/el-sabor-cheese-dip-saltsa-turiou-300gr-220883/',\n",
       " 'https://www.sklavenitis.gr/trofima-pantopoleioy/ketsap-moystardes-magionezes-etoimes-saltses/moystardes/brava-moustarda-apali-430gr-1421902/',\n",
       " 'https://www.sklavenitis.gr/trofima-pantopoleioy/ketsap-moystardes-magionezes-etoimes-saltses/saltses-dressings/hellmanns-saltsa-me-tsentar-horis-glouteni-250gr-1507172/',\n",
       " 'https://www.sklavenitis.gr/trofima-pantopoleioy/ketsap-moystardes-magionezes-etoimes-saltses/saltses-dressings/hellmanns-saltsa-gia-burger-250gr-240221/',\n",
       " 'https://www.sklavenitis.gr/trofima-pantopoleioy/ketsap-moystardes-magionezes-etoimes-saltses/saltses-dressings/bens-original-saltsa-glukoxini-450gr/',\n",
       " 'https://www.sklavenitis.gr/trofima-pantopoleioy/ketsap-moystardes-magionezes-etoimes-saltses/ketsap/17-ketsap-250gr/',\n",
       " 'https://www.sklavenitis.gr/trofima-pantopoleioy/ketsap-moystardes-magionezes-etoimes-saltses/ketsap/heinz-viologik-ketsap-top-down-580gr-220827/',\n",
       " 'https://www.sklavenitis.gr/trofima-pantopoleioy/ketsap-moystardes-magionezes-etoimes-saltses/etoimes-saltses/barilla-saltsa-napoletana-400gr/',\n",
       " 'https://www.sklavenitis.gr/trofima-pantopoleioy/ketsap-moystardes-magionezes-etoimes-saltses/moystardes/17-moustarda-apali-500gr/',\n",
       " 'https://www.sklavenitis.gr/trofima-pantopoleioy/ketsap-moystardes-magionezes-etoimes-saltses/ketsap/hellmanns-ketsap-me-stevia-540gr-227103/',\n",
       " 'https://www.sklavenitis.gr/trofima-pantopoleioy/ketsap-moystardes-magionezes-etoimes-saltses/etoimes-saltses/knorr-saltsa-zumarikon-karmponara-88gr-6289771/',\n",
       " 'https://www.sklavenitis.gr/trofima-pantopoleioy/ketsap-moystardes-magionezes-etoimes-saltses/moystardes/17-dressing-moustardas-250gr-1440177/',\n",
       " 'https://www.sklavenitis.gr/trofima-pantopoleioy/ketsap-moystardes-magionezes-etoimes-saltses/saltses-dressings/17-french-dressing-250gr-1440178/',\n",
       " 'https://www.sklavenitis.gr/trofima-pantopoleioy/ketsap-moystardes-magionezes-etoimes-saltses/magionezes/-1460308/',\n",
       " 'https://www.sklavenitis.gr/trofima-pantopoleioy/ketsap-moystardes-magionezes-etoimes-saltses/saltses-dressings/el-sabor-salsa-dip-saltsa-ntip-300gr-220884/',\n",
       " 'https://www.sklavenitis.gr/trofima-pantopoleioy/ketsap-moystardes-magionezes-etoimes-saltses/moystardes/17-moustarda-apali-250gr/',\n",
       " 'https://www.sklavenitis.gr/trofima-pantopoleioy/ketsap-moystardes-magionezes-etoimes-saltses/ketsap/-6983506/',\n",
       " 'https://www.sklavenitis.gr/trofima-pantopoleioy/ketsap-moystardes-magionezes-etoimes-saltses/ketsap/kuknos-ketsap-pikantiki-330gr-220831/',\n",
       " 'https://www.sklavenitis.gr/trofima-pantopoleioy/ketsap-moystardes-magionezes-etoimes-saltses/saltses-dressings/bens-original-saltsa-glukoxini-extra-ananas-450gr/',\n",
       " 'https://www.sklavenitis.gr/trofima-pantopoleioy/ketsap-moystardes-magionezes-etoimes-saltses/saltses-dressings/hellmanns-dressing-1000-island-210ml/',\n",
       " 'https://www.sklavenitis.gr/trofima-pantopoleioy/ketsap-moystardes-magionezes-etoimes-saltses/magionezes/-1061995/',\n",
       " 'https://www.sklavenitis.gr/trofima-pantopoleioy/ketsap-moystardes-magionezes-etoimes-saltses/etoimes-saltses/kuknos-saltsa-tomatas-me-feta-425gr-238981/',\n",
       " 'https://www.sklavenitis.gr/trofima-pantopoleioy/ketsap-moystardes-magionezes-etoimes-saltses/moystardes/brava-moustarda-apali-250gr-4153193/',\n",
       " 'https://www.sklavenitis.gr/trofima-pantopoleioy/ketsap-moystardes-magionezes-etoimes-saltses/saltses-dressings/li-o-chang-saltsa-sogias-200ml-50ml-doro-1503021/',\n",
       " 'https://www.sklavenitis.gr/trofima-pantopoleioy/ketsap-moystardes-magionezes-etoimes-saltses/etoimes-saltses/barilla-saltsa-pesto-basilico-vegan-190gr-237224/',\n",
       " 'https://www.sklavenitis.gr/trofima-pantopoleioy/ketsap-moystardes-magionezes-etoimes-saltses/moystardes/frenchs-moustarda-397gr/',\n",
       " 'https://www.sklavenitis.gr/trofima-pantopoleioy/ketsap-moystardes-magionezes-etoimes-saltses/ketsap/kyknos-ketsap-pikantiki-horis-glouteni-560gr-1527838/',\n",
       " 'https://www.sklavenitis.gr/trofima-pantopoleioy/ketsap-moystardes-magionezes-etoimes-saltses/saltses-dressings/tabasco-pepper-sauce-60ml-224630/',\n",
       " 'https://www.sklavenitis.gr/trofima-pantopoleioy/ketsap-moystardes-magionezes-etoimes-saltses/saltses-dressings/heinz-saltsa-worcester-150ml-1145538/',\n",
       " 'https://www.sklavenitis.gr/trofima-pantopoleioy/ketsap-moystardes-magionezes-etoimes-saltses/moystardes/papadimitriou-moustarda-me-thumari-rigani-200gr-228729/',\n",
       " 'https://www.sklavenitis.gr/trofima-pantopoleioy/ketsap-moystardes-magionezes-etoimes-saltses/etoimes-saltses/saltsa-barilla-horis-glouteni-pesto--vasiliko-195gr-1517890/',\n",
       " 'https://www.sklavenitis.gr/trofima-pantopoleioy/ketsap-moystardes-magionezes-etoimes-saltses/moystardes/kalamata-papadimitriou-moustarda-me-ligotero-alati-horis-glouteni-300gr/',\n",
       " 'https://www.sklavenitis.gr/trofima-pantopoleioy/ketsap-moystardes-magionezes-etoimes-saltses/etoimes-saltses/filedem-spitiki-saltsa-domatas-690gr/',\n",
       " 'https://www.sklavenitis.gr/trofima-pantopoleioy/ketsap-moystardes-magionezes-etoimes-saltses/etoimes-saltses/barilla-saltsa-arrabbiata-400gr/',\n",
       " 'https://www.sklavenitis.gr/trofima-pantopoleioy/ketsap-moystardes-magionezes-etoimes-saltses/moystardes/hellmanns-moustarda-pikantiki-250gr-220811/',\n",
       " 'https://www.sklavenitis.gr/trofima-pantopoleioy/ketsap-moystardes-magionezes-etoimes-saltses/saltses-dressings/monkey-saltsa-sweet-chilli-190gr/',\n",
       " 'https://www.sklavenitis.gr/trofima-pantopoleioy/ketsap-moystardes-magionezes-etoimes-saltses/etoimes-saltses/barilla-etoimi-saltsa-zumarikon-pesto-alla-calabrese-horis-glouteni-190gr/',\n",
       " 'https://www.sklavenitis.gr/trofima-pantopoleioy/ketsap-moystardes-magionezes-etoimes-saltses/magionezes/hellmanns-magioneza-me-troufa-235gr-241661/',\n",
       " 'https://www.sklavenitis.gr/trofima-pantopoleioy/ketsap-moystardes-magionezes-etoimes-saltses/saltses-dressings/blue-dragon-wok-sos-terigiaki-120gr/',\n",
       " 'https://www.sklavenitis.gr/trofima-pantopoleioy/ketsap-moystardes-magionezes-etoimes-saltses/etoimes-saltses/knorr-saltsa-bolonez-60gr/',\n",
       " 'https://www.sklavenitis.gr/trofima-pantopoleioy/ketsap-moystardes-magionezes-etoimes-saltses/ketsap/hellmanns-ketsap-klasik-340gr-220828/',\n",
       " 'https://www.sklavenitis.gr/trofima-pantopoleioy/ketsap-moystardes-magionezes-etoimes-saltses/moystardes/filedem-moustarda-apali-paradosiaki-365gr/',\n",
       " 'https://www.sklavenitis.gr/trofima-pantopoleioy/ketsap-moystardes-magionezes-etoimes-saltses/etoimes-saltses/filentem-saltsa-vasilikosthumari-360gr-1475434/',\n",
       " 'https://www.sklavenitis.gr/trofima-pantopoleioy/ketsap-moystardes-magionezes-etoimes-saltses/moystardes/17-moustarda-pikadiki-250gr/',\n",
       " 'https://www.sklavenitis.gr/trofima-pantopoleioy/ketsap-moystardes-magionezes-etoimes-saltses/moystardes/hellmanns-moustarda-me-piperies-florinis-300gr-242723/',\n",
       " 'https://www.sklavenitis.gr/trofima-pantopoleioy/ketsap-moystardes-magionezes-etoimes-saltses/etoimes-saltses/cook-at-home-saltsa-gia-mosharaki-katsarolas-kokkinisto-me-karotakia--kokkino-krasi-520gr-1515497/',\n",
       " 'https://www.sklavenitis.gr/trofima-pantopoleioy/ketsap-moystardes-magionezes-etoimes-saltses/etoimes-saltses/cook-at-home-saltsa-gia-kotopoulo-fournou-bbq-me-thumari--meli-265gr-1515509/',\n",
       " 'https://www.sklavenitis.gr/trofima-pantopoleioy/ketsap-moystardes-magionezes-etoimes-saltses/saltses-dressings/kikkoman-soy-sauce-me-ligotero-alati-150ml-227684/',\n",
       " 'https://www.sklavenitis.gr/trofima-pantopoleioy/ketsap-moystardes-magionezes-etoimes-saltses/ketsap/kyknos-ketsap-horis-glouteni-560gr-1531838/',\n",
       " 'https://www.sklavenitis.gr/trofima-pantopoleioy/ketsap-moystardes-magionezes-etoimes-saltses/moystardes/brava-moustarda-pikadiki-horis-glouteni-250gr/',\n",
       " 'https://www.sklavenitis.gr/trofima-pantopoleioy/ketsap-moystardes-magionezes-etoimes-saltses/saltses-dressings/colmans-saltsa-kranmperi-165gr-1329431/',\n",
       " 'https://www.sklavenitis.gr/trofima-pantopoleioy/ketsap-moystardes-magionezes-etoimes-saltses/magionezes/filentem-magioneza-kritiki-horis-glouteni-330ml-1299264/',\n",
       " 'https://www.sklavenitis.gr/trofima-pantopoleioy/ketsap-moystardes-magionezes-etoimes-saltses/moystardes/hellmanns-moustarda-me-kapnisto-mpoukovo-300gr-242724/',\n",
       " 'https://www.sklavenitis.gr/trofima-pantopoleioy/ketsap-moystardes-magionezes-etoimes-saltses/saltses-dressings/kikkoman-teriyaki-sauce-250ml-225584/',\n",
       " 'https://www.sklavenitis.gr/trofima-pantopoleioy/ketsap-moystardes-magionezes-etoimes-saltses/ketsap/kyknos-ketsap-me-stevia-horis-glouteni-540gr-1531770/',\n",
       " 'https://www.sklavenitis.gr/trofima-pantopoleioy/ketsap-moystardes-magionezes-etoimes-saltses/moystardes/colmans-moustarda-skoni-agglias-57gr-224626/',\n",
       " 'https://www.sklavenitis.gr/trofima-pantopoleioy/ketsap-moystardes-magionezes-etoimes-saltses/saltses-dressings/kikkoman-soy-sauce-all-purpose-250ml-220836/',\n",
       " 'https://www.sklavenitis.gr/trofima-pantopoleioy/ketsap-moystardes-magionezes-etoimes-saltses/moystardes/biofarma-moustarda-viologik-200gr-233811/',\n",
       " 'https://www.sklavenitis.gr/trofima-pantopoleioy/ketsap-moystardes-magionezes-etoimes-saltses/saltses-dressings/kuhne-horseradish-saltsa-me-agrorapno-140gr-5035621/',\n",
       " 'https://www.sklavenitis.gr/trofima-pantopoleioy/ketsap-moystardes-magionezes-etoimes-saltses/saltses-dressings/tabasco-saltsa-hot-habanero-60ml/',\n",
       " 'https://www.sklavenitis.gr/trofima-pantopoleioy/ketsap-moystardes-magionezes-etoimes-saltses/saltses-dressings/kuhne-saltsa-smoked-pepper-bbq-235ml-1395256/',\n",
       " 'https://www.sklavenitis.gr/trofima-pantopoleioy/ketsap-moystardes-magionezes-etoimes-saltses/etoimes-saltses/gaea-etoimi-saltsa-me-tomata-kai-agria-rigani-280gr/',\n",
       " 'https://www.sklavenitis.gr/trofima-pantopoleioy/ketsap-moystardes-magionezes-etoimes-saltses/saltses-dressings/pataks-saltsa-tikka-masala-medium-horis-glouteni-450gr-1493884/',\n",
       " 'https://www.sklavenitis.gr/trofima-pantopoleioy/ketsap-moystardes-magionezes-etoimes-saltses/etoimes-saltses/barilla-etoimi-saltsa-zumarikon-bolognese-soja-vegan-horis-glouteni-195gr/',\n",
       " 'https://www.sklavenitis.gr/trofima-pantopoleioy/ketsap-moystardes-magionezes-etoimes-saltses/saltses-dressings/suree-saltsa-streidiou-295ml-1445811/',\n",
       " 'https://www.sklavenitis.gr/trofima-pantopoleioy/ketsap-moystardes-magionezes-etoimes-saltses/saltses-dressings/jack-daniels-original-barbeque-sauce-260gr-220835/',\n",
       " 'https://www.sklavenitis.gr/trofima-pantopoleioy/ketsap-moystardes-magionezes-etoimes-saltses/saltses-dressings/artisan-foods-pasta-wasabi-43gr-1514320/',\n",
       " 'https://www.sklavenitis.gr/trofima-pantopoleioy/ketsap-moystardes-magionezes-etoimes-saltses/saltses-dressings/kuhne-saltsa-karu-250ml-4202271/',\n",
       " 'https://www.sklavenitis.gr/trofima-pantopoleioy/ketsap-moystardes-magionezes-etoimes-saltses/saltses-dressings/khune-saltsa-me-mauro-skordo-235ml-1395257/',\n",
       " 'https://www.sklavenitis.gr/trofima-pantopoleioy/ketsap-moystardes-magionezes-etoimes-saltses/etoimes-saltses/colmans-saltsa-tartare-144gr-1450161/',\n",
       " 'https://www.sklavenitis.gr/trofima-pantopoleioy/ketsap-moystardes-magionezes-etoimes-saltses/etoimes-saltses/schlagfix-saltsa-lahanikon-vegan-370gr/',\n",
       " 'https://www.sklavenitis.gr/trofima-pantopoleioy/ketsap-moystardes-magionezes-etoimes-saltses/magionezes/schlagfix-anapliroma-magionezas-vegan-horis-glouteni-250ml/',\n",
       " 'https://www.sklavenitis.gr/trofima-pantopoleioy/ketsap-moystardes-magionezes-etoimes-saltses/etoimes-saltses/barilla-etoimi-saltsa-bolognese-horis-glouteni-400g-8495095/',\n",
       " 'https://www.sklavenitis.gr/trofima-pantopoleioy/ketsap-moystardes-magionezes-etoimes-saltses/magionezes/condito-the-green-line-mayo-magioneza-nistisimi-me-apali-moustarda-vegan-horis-glouteni-280gr/',\n",
       " 'https://www.sklavenitis.gr/trofima-pantopoleioy/ketsap-moystardes-magionezes-etoimes-saltses/saltses-dressings/condito-mayo-saltsa-me-kapnisto-mpoukovo-horis-glouteni-280gr-1548279/',\n",
       " 'https://www.sklavenitis.gr/trofima-pantopoleioy/ketsap-moystardes-magionezes-etoimes-saltses/magionezes/brava-anapliroma-magionezas-vegan-horis-glouteni-235ml-1545829/']"
      ]
     },
     "execution_count": 13,
     "metadata": {},
     "output_type": "execute_result"
    }
   ],
   "source": [
    "productlinks = []\n",
    "for link in soup.findAll('a', {'class': 'absLink'}):\n",
    "    try:\n",
    "        productlinks.append(link['href'])\n",
    "    except KeyError:\n",
    "        pass\n",
    "productlinks"
   ]
  },
  {
   "cell_type": "markdown",
   "metadata": {},
   "source": [
    "### Iterate through products to find specific string in ingredients\n",
    "Visit each product, load HTML to variable \"soup\". Find all <div> classified as \"product-detail_section\" and iterate through it until you find the ingredient \"άχαρη\"(sugar)\n",
    "\n",
    "ΝΟΤΕ: I removed the first letter of the ingredient to simplify the code from the Case Sensitivity "
   ]
  },
  {
   "cell_type": "code",
   "execution_count": 17,
   "metadata": {},
   "outputs": [
    {
     "name": "stdout",
     "output_type": "stream",
     "text": [
      "{'link': 'https://www.sklavenitis.gr/trofima-pantopoleioy/ketsap-moystardes-magionezes-etoimes-saltses/moystardes/-1121305/'}\n",
      "{'link': 'https://www.sklavenitis.gr/trofima-pantopoleioy/ketsap-moystardes-magionezes-etoimes-saltses/saltses-dressings/17-dressing-ceasars-250gr/'}\n",
      "{'link': 'https://www.sklavenitis.gr/trofima-pantopoleioy/ketsap-moystardes-magionezes-etoimes-saltses/moystardes/-1121309/'}\n",
      "{'link': 'https://www.sklavenitis.gr/trofima-pantopoleioy/ketsap-moystardes-magionezes-etoimes-saltses/moystardes/maille-moustarda-dijon-originale-215gr-220812/'}\n",
      "{'link': 'https://www.sklavenitis.gr/trofima-pantopoleioy/ketsap-moystardes-magionezes-etoimes-saltses/moystardes/-1250682/'}\n",
      "{'link': 'https://www.sklavenitis.gr/trofima-pantopoleioy/ketsap-moystardes-magionezes-etoimes-saltses/saltses-dressings/el-sabor-cheese-dip-saltsa-turiou-300gr-220883/'}\n",
      "{'link': 'https://www.sklavenitis.gr/trofima-pantopoleioy/ketsap-moystardes-magionezes-etoimes-saltses/ketsap/17-ketsap-250gr/'}\n",
      "{'link': 'https://www.sklavenitis.gr/trofima-pantopoleioy/ketsap-moystardes-magionezes-etoimes-saltses/moystardes/17-dressing-moustardas-250gr-1440177/'}\n",
      "{'link': 'https://www.sklavenitis.gr/trofima-pantopoleioy/ketsap-moystardes-magionezes-etoimes-saltses/saltses-dressings/17-french-dressing-250gr-1440178/'}\n",
      "{'link': 'https://www.sklavenitis.gr/trofima-pantopoleioy/ketsap-moystardes-magionezes-etoimes-saltses/magionezes/-1460308/'}\n",
      "{'link': 'https://www.sklavenitis.gr/trofima-pantopoleioy/ketsap-moystardes-magionezes-etoimes-saltses/magionezes/-1061995/'}\n",
      "{'link': 'https://www.sklavenitis.gr/trofima-pantopoleioy/ketsap-moystardes-magionezes-etoimes-saltses/etoimes-saltses/kuknos-saltsa-tomatas-me-feta-425gr-238981/'}\n",
      "{'link': 'https://www.sklavenitis.gr/trofima-pantopoleioy/ketsap-moystardes-magionezes-etoimes-saltses/saltses-dressings/li-o-chang-saltsa-sogias-200ml-50ml-doro-1503021/'}\n",
      "{'link': 'https://www.sklavenitis.gr/trofima-pantopoleioy/ketsap-moystardes-magionezes-etoimes-saltses/moystardes/frenchs-moustarda-397gr/'}\n",
      "{'link': 'https://www.sklavenitis.gr/trofima-pantopoleioy/ketsap-moystardes-magionezes-etoimes-saltses/saltses-dressings/tabasco-pepper-sauce-60ml-224630/'}\n",
      "{'link': 'https://www.sklavenitis.gr/trofima-pantopoleioy/ketsap-moystardes-magionezes-etoimes-saltses/moystardes/papadimitriou-moustarda-me-thumari-rigani-200gr-228729/'}\n",
      "{'link': 'https://www.sklavenitis.gr/trofima-pantopoleioy/ketsap-moystardes-magionezes-etoimes-saltses/etoimes-saltses/saltsa-barilla-horis-glouteni-pesto--vasiliko-195gr-1517890/'}\n",
      "{'link': 'https://www.sklavenitis.gr/trofima-pantopoleioy/ketsap-moystardes-magionezes-etoimes-saltses/moystardes/kalamata-papadimitriou-moustarda-me-ligotero-alati-horis-glouteni-300gr/'}\n",
      "{'link': 'https://www.sklavenitis.gr/trofima-pantopoleioy/ketsap-moystardes-magionezes-etoimes-saltses/etoimes-saltses/filedem-spitiki-saltsa-domatas-690gr/'}\n",
      "{'link': 'https://www.sklavenitis.gr/trofima-pantopoleioy/ketsap-moystardes-magionezes-etoimes-saltses/saltses-dressings/monkey-saltsa-sweet-chilli-190gr/'}\n",
      "{'link': 'https://www.sklavenitis.gr/trofima-pantopoleioy/ketsap-moystardes-magionezes-etoimes-saltses/magionezes/hellmanns-magioneza-me-troufa-235gr-241661/'}\n",
      "{'link': 'https://www.sklavenitis.gr/trofima-pantopoleioy/ketsap-moystardes-magionezes-etoimes-saltses/moystardes/filedem-moustarda-apali-paradosiaki-365gr/'}\n",
      "{'link': 'https://www.sklavenitis.gr/trofima-pantopoleioy/ketsap-moystardes-magionezes-etoimes-saltses/etoimes-saltses/filentem-saltsa-vasilikosthumari-360gr-1475434/'}\n",
      "{'link': 'https://www.sklavenitis.gr/trofima-pantopoleioy/ketsap-moystardes-magionezes-etoimes-saltses/moystardes/hellmanns-moustarda-me-piperies-florinis-300gr-242723/'}\n",
      "{'link': 'https://www.sklavenitis.gr/trofima-pantopoleioy/ketsap-moystardes-magionezes-etoimes-saltses/magionezes/filentem-magioneza-kritiki-horis-glouteni-330ml-1299264/'}\n",
      "{'link': 'https://www.sklavenitis.gr/trofima-pantopoleioy/ketsap-moystardes-magionezes-etoimes-saltses/moystardes/hellmanns-moustarda-me-kapnisto-mpoukovo-300gr-242724/'}\n",
      "{'link': 'https://www.sklavenitis.gr/trofima-pantopoleioy/ketsap-moystardes-magionezes-etoimes-saltses/moystardes/colmans-moustarda-skoni-agglias-57gr-224626/'}\n",
      "{'link': 'https://www.sklavenitis.gr/trofima-pantopoleioy/ketsap-moystardes-magionezes-etoimes-saltses/saltses-dressings/kikkoman-soy-sauce-all-purpose-250ml-220836/'}\n",
      "{'link': 'https://www.sklavenitis.gr/trofima-pantopoleioy/ketsap-moystardes-magionezes-etoimes-saltses/moystardes/biofarma-moustarda-viologik-200gr-233811/'}\n",
      "{'link': 'https://www.sklavenitis.gr/trofima-pantopoleioy/ketsap-moystardes-magionezes-etoimes-saltses/saltses-dressings/kuhne-horseradish-saltsa-me-agrorapno-140gr-5035621/'}\n",
      "{'link': 'https://www.sklavenitis.gr/trofima-pantopoleioy/ketsap-moystardes-magionezes-etoimes-saltses/etoimes-saltses/gaea-etoimi-saltsa-me-tomata-kai-agria-rigani-280gr/'}\n",
      "{'link': 'https://www.sklavenitis.gr/trofima-pantopoleioy/ketsap-moystardes-magionezes-etoimes-saltses/saltses-dressings/pataks-saltsa-tikka-masala-medium-horis-glouteni-450gr-1493884/'}\n",
      "{'link': 'https://www.sklavenitis.gr/trofima-pantopoleioy/ketsap-moystardes-magionezes-etoimes-saltses/etoimes-saltses/barilla-etoimi-saltsa-zumarikon-bolognese-soja-vegan-horis-glouteni-195gr/'}\n",
      "{'link': 'https://www.sklavenitis.gr/trofima-pantopoleioy/ketsap-moystardes-magionezes-etoimes-saltses/saltses-dressings/suree-saltsa-streidiou-295ml-1445811/'}\n",
      "{'link': 'https://www.sklavenitis.gr/trofima-pantopoleioy/ketsap-moystardes-magionezes-etoimes-saltses/saltses-dressings/jack-daniels-original-barbeque-sauce-260gr-220835/'}\n",
      "{'link': 'https://www.sklavenitis.gr/trofima-pantopoleioy/ketsap-moystardes-magionezes-etoimes-saltses/saltses-dressings/artisan-foods-pasta-wasabi-43gr-1514320/'}\n",
      "{'link': 'https://www.sklavenitis.gr/trofima-pantopoleioy/ketsap-moystardes-magionezes-etoimes-saltses/saltses-dressings/kuhne-saltsa-karu-250ml-4202271/'}\n"
     ]
    }
   ],
   "source": [
    "data=[]\n",
    "\n",
    "#Iterate through links\n",
    "for link in productlinks:\n",
    "    f = requests.get(link,headers=headers).text    \n",
    "    soup=BeautifulSoup(f,'html.parser')\n",
    "    no_sugar = True #let's assume there is no sugar\n",
    "\n",
    "    #Iterate through data that fall under the class \"product-detail__Section\" to find the ingredient \"άχαρη\"(sugar) \n",
    "    for x in soup.find_all('div',{'class':'product-detail__section'}):\n",
    "        if('άχαρη' in x.text):            #if \"άχαρη\"(sugar) in the text \n",
    "            no_sugar=False                #there is sugar\n",
    "            break                         #stop searching\n",
    "\n",
    "    if(no_sugar):\n",
    "        product = {\"link\" : link}\n",
    "        print(product)\n",
    "        data.append(product)\n"
   ]
  },
  {
   "cell_type": "code",
   "execution_count": null,
   "metadata": {},
   "outputs": [],
   "source": []
  },
  {
   "cell_type": "code",
   "execution_count": null,
   "metadata": {},
   "outputs": [],
   "source": []
  },
  {
   "cell_type": "code",
   "execution_count": null,
   "metadata": {},
   "outputs": [],
   "source": []
  }
 ],
 "metadata": {
  "kernelspec": {
   "display_name": "Python 3",
   "language": "python",
   "name": "python3"
  },
  "language_info": {
   "codemirror_mode": {
    "name": "ipython",
    "version": 3
   },
   "file_extension": ".py",
   "mimetype": "text/x-python",
   "name": "python",
   "nbconvert_exporter": "python",
   "pygments_lexer": "ipython3",
   "version": "3.8.5"
  }
 },
 "nbformat": 4,
 "nbformat_minor": 4
}
